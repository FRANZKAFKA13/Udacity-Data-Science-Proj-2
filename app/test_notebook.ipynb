{
 "cells": [
  {
   "cell_type": "code",
   "execution_count": 4,
   "metadata": {
    "pycharm": {
     "name": "#%%\n"
    }
   },
   "outputs": [],
   "source": [
    "import pandas as pd\n",
    "from sqlalchemy import create_engine"
   ]
  },
  {
   "cell_type": "code",
   "execution_count": 5,
   "metadata": {},
   "outputs": [],
   "source": [
    "engine = create_engine('sqlite:///../data/disaster_response.db')\n",
    "df = pd.read_sql_table('messages_categorized', engine)"
   ]
  },
  {
   "cell_type": "code",
   "execution_count": 8,
   "metadata": {},
   "outputs": [
    {
     "name": "stdout",
     "output_type": "stream",
     "text": [
      "{'related': 20252, 'request': 4464, 'offer': 118, 'aid_related': 10841, 'medical_help': 2081, 'medical_products': 1311, 'search_and_rescue': 724, 'security': 471, 'military': 859, 'child_alone': 0, 'water': 1669, 'food': 2917, 'shelter': 2308, 'clothing': 404, 'money': 603, 'missing_people': 298, 'refugees': 874, 'death': 1192, 'other_aid': 3441, 'infrastructure_related': 1705, 'transport': 1199, 'buildings': 1331, 'electricity': 532, 'tools': 159, 'hospitals': 283, 'shops': 120, 'aid_centers': 309, 'other_infrastructure': 1151, 'weather_related': 7286, 'floods': 2149, 'storm': 2440, 'fire': 282, 'earthquake': 2452, 'cold': 528, 'other_weather': 1376, 'direct_report': 5064}\n"
     ]
    }
   ],
   "source": [
    "category_counts = {}\n",
    "\n",
    "categories = df.columns[4:]\n",
    "\n",
    "for category in categories:\n",
    "    count = df[category].sum()\n",
    "    category_counts[category] = count\n",
    "    \n",
    "print(category_count)"
   ]
  },
  {
   "cell_type": "code",
   "execution_count": 10,
   "metadata": {},
   "outputs": [],
   "source": [
    "genre_counts = df.groupby('genre').count()['message']\n",
    "genre_names = list(genre_counts.index)"
   ]
  },
  {
   "cell_type": "code",
   "execution_count": 11,
   "metadata": {},
   "outputs": [
    {
     "data": {
      "text/plain": [
       "genre\n",
       "direct    10747\n",
       "news      13039\n",
       "social     2394\n",
       "Name: message, dtype: int64"
      ]
     },
     "execution_count": 11,
     "metadata": {},
     "output_type": "execute_result"
    }
   ],
   "source": [
    "genre_counts"
   ]
  },
  {
   "cell_type": "code",
   "execution_count": 12,
   "metadata": {},
   "outputs": [
    {
     "data": {
      "text/plain": [
       "['direct', 'news', 'social']"
      ]
     },
     "execution_count": 12,
     "metadata": {},
     "output_type": "execute_result"
    }
   ],
   "source": [
    "genre_names"
   ]
  },
  {
   "cell_type": "code",
   "execution_count": null,
   "metadata": {},
   "outputs": [],
   "source": []
  }
 ],
 "metadata": {
  "kernelspec": {
   "display_name": "Python 3",
   "language": "python",
   "name": "python3"
  },
  "language_info": {
   "codemirror_mode": {
    "name": "ipython",
    "version": 3
   },
   "file_extension": ".py",
   "mimetype": "text/x-python",
   "name": "python",
   "nbconvert_exporter": "python",
   "pygments_lexer": "ipython3",
   "version": "3.7.4"
  }
 },
 "nbformat": 4,
 "nbformat_minor": 2
}
